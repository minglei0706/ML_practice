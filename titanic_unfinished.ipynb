{
 "cells": [
  {
   "cell_type": "markdown",
   "metadata": {},
   "source": [
    "根据之前的知识，我们现在来进行一些训练。<br>\n",
    "In this challenge, we ask you to build a predictive model that answers the question: “what sorts of people were more likely to survive?” <br>\n",
    "using passenger data (ie name, age, gender, socio-economic class, etc).<br>\n",
    "<br>\n",
    "Variable Notes<br>\n",
    "<br>\n",
    "pclass: A proxy for socio-economic status (SES)<br>\n",
    "1st = Upper<br>\n",
    "2nd = Middle<br>\n",
    "3rd = Lower<br>\n",
    "<br>\n",
    "age: Age is fractional if less than 1. If the age is estimated, is it in the form of xx.5<br>\n",
    "<br>\n",
    "sibsp: The dataset defines family relations in this way...<br>\n",
    "<br>\n",
    "Sibling = brother, sister, stepbrother, stepsister<br>\n",
    "<br>\n",
    "Spouse = husband, wife (mistresses and fiancés were ignored)<br>\n",
    "<br>\n",
    "parch: The dataset defines family relations in this way...<br>\n",
    "<br>\n",
    "Parent = mother, father<br>\n",
    "<br>\n",
    "Child = daughter, son, stepdaughter, stepson<br>\n",
    "Some children travelled only with a nanny, therefore parch=0 for them.<br>"
   ]
  },
  {
   "cell_type": "code",
   "execution_count": null,
   "metadata": {},
   "outputs": [],
   "source": [
    "import torch\n",
    "import numpy as np\n",
    "from torch.utils.data import Dataset,DataLoader\n",
    "import matplotlib.pyplot as plt\n",
    "\n",
    "\n",
    "\n",
    "\n",
    "\n",
    "\n",
    "\n",
    "\n",
    "\n",
    "\n"
   ]
  }
 ],
 "metadata": {
  "kernelspec": {
   "display_name": "PyTorch",
   "language": "python",
   "name": "python3"
  },
  "language_info": {
   "name": "python",
   "version": "3.12.3"
  }
 },
 "nbformat": 4,
 "nbformat_minor": 2
}
