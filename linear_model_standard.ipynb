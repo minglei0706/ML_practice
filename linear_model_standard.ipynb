{
 "cells": [
  {
   "cell_type": "markdown",
   "metadata": {},
   "source": [
    "在之前（linear_model.ipynb）中，我们都是人工构建loss函数以及grad函数和update函数，实际上Pytorch已经有一套成熟的函数供我们调用。\n",
    "\n",
    "在使用之前，我们需要明确我们每次训练数据的流程。\n",
    "\n",
    "1.prepare dataset<br>\n",
    "2.Design model using class<br>\n",
    "3.Construct loss and optimizer<br>\n",
    "4.Trainging cycle<br>"
   ]
  },
  {
   "cell_type": "markdown",
   "metadata": {},
   "source": [
    "1.如下的方法为mini-batch的数据集风格，但是由于只有三组数据，所以就直接写成 3 $\\times$ 1 的矩阵形式<br>\n",
    "并且这里的x和y都应该是tensor，而不是scaler或者其他形式"
   ]
  },
  {
   "cell_type": "code",
   "execution_count": 3,
   "metadata": {},
   "outputs": [],
   "source": [
    "import torch\n",
    "\n",
    "x_data = torch.tensor([[1.0],[2.0],[3.0]])\n",
    "y_data = torch.tensor([[2.0],[4.0],[6.0]])"
   ]
  },
  {
   "cell_type": "markdown",
   "metadata": {},
   "source": [
    "2.构建函数<br>\n",
    "\n",
    "在PyTorch中，我们不需要手工的计算导数，重要的是通过Tensor之间的计算直接狗仔计算图。<br>\n",
    "这其中的关键就是确定w和b的大小。而确定w和b的维度又要知道x（input）和y_pred（output）的维度。<br>\n",
    "如下为定义model的标注格式，以后都按照这种方法定义。\n"
   ]
  },
  {
   "cell_type": "code",
   "execution_count": 4,
   "metadata": {},
   "outputs": [],
   "source": [
    "class LinearModul(torch.nn.Module):\n",
    "    #构建函数\n",
    "    def __init__(self):\n",
    "        #父类，不用管，just do it\n",
    "        super(LinearModul,self).__init__()\n",
    "        #定义了一个线性层，作为class的实例变量，这样每个实例都有自己独立的线性层。\n",
    "        #括号中的两个1分别表示输入feature的数量和输出feature的数量。\n",
    "        #Linear函数默认计算y=wx+b\n",
    "        self.linear = torch.nn.Linear(1,1)\n",
    "\n",
    "    def forward(self,x):\n",
    "        #在 forward 方法中，通过 self 访问实例变量 linear，并对输入 x 进行计算。\n",
    "        #相当于计算y_pred=wx+b\n",
    "        y_pred = self.linear(x)\n",
    "        return y_pred\n",
    "model = LinearModul()\n"
   ]
  },
  {
   "cell_type": "markdown",
   "metadata": {},
   "source": [
    "3. Constuct Loss and Optimizer\n",
    "\n",
    "接下来就要构建Loss function和优化函数了。<br>\n",
    "这里我们使用的是MSEloss函数，直接调用即可。<br>\n",
    "优化函数有很多，这里先用SGD<br>\n",
    "优化器：<br>\n",
    "*torch.optim.Adagrad\n",
    "*torch.optim.Adam\n",
    "*torch.optim.Adamax\n",
    "*torch.optim.ASGD\n",
    "*torch.optim.LBFGS\n",
    "*torch.optim.RMSprop\n",
    "*torch.optim.Rprop\n",
    "*torch.optim.SGD"
   ]
  },
  {
   "cell_type": "code",
   "execution_count": 5,
   "metadata": {},
   "outputs": [
    {
     "name": "stderr",
     "output_type": "stream",
     "text": [
      "/opt/miniconda3/envs/PyTorch/lib/python3.12/site-packages/torch/nn/_reduction.py:42: UserWarning: size_average and reduce args will be deprecated, please use reduction='sum' instead.\n",
      "  warnings.warn(warning.format(ret))\n"
     ]
    }
   ],
   "source": [
    "#不计算均值\n",
    "criterion = torch.nn.MSELoss(size_average=False)\n",
    "#检查model所有成员，权重加入优化训练，learning rate = 0.01\n",
    "optimizer = torch.optim.SGD(model.parameters(),lr=0.01)"
   ]
  },
  {
   "cell_type": "markdown",
   "metadata": {},
   "source": [
    "4. Training cycle\n",
    "\n",
    "通常的顺序为：\n",
    "*y_pred\n",
    "*loss\n",
    "*clear\n",
    "*backward\n",
    "*update"
   ]
  },
  {
   "cell_type": "code",
   "execution_count": null,
   "metadata": {},
   "outputs": [],
   "source": [
    "for epoch in range(100):\n",
    "    y_pred = model(x_data)\n",
    "    loss = criterion(y_pred,y_data)\n",
    "    print(epoch,loss.item())\n",
    "    \n",
    "    #clear\n",
    "    optimizer.zero_grad()\n",
    "    #backward\n",
    "    loss.backward()\n",
    "    #update\n",
    "    optimizer.step()\n"
   ]
  },
  {
   "cell_type": "markdown",
   "metadata": {},
   "source": [
    "接下来让我们尝试运行如上所示的所有代码。"
   ]
  },
  {
   "cell_type": "code",
   "execution_count": 37,
   "metadata": {},
   "outputs": [
    {
     "name": "stdout",
     "output_type": "stream",
     "text": [
      "w=  1.8818016052246094\n",
      "b=  0.2686927318572998\n",
      "Predict(after training) epoch= 100 when x = 4, y_pred= tensor([7.7959], grad_fn=<ViewBackward0>)\n"
     ]
    },
    {
     "data": {
      "text/plain": [
       "<function matplotlib.pyplot.show(close=None, block=None)>"
      ]
     },
     "execution_count": 37,
     "metadata": {},
     "output_type": "execute_result"
    },
    {
     "data": {
      "image/png": "[encoded data removed]",
      "text/plain": [
       "<Figure size 640x480 with 1 Axes>"
      ]
     },
     "metadata": {},
     "output_type": "display_data"
    }
   ],
   "source": [
    "import torch\n",
    "import matplotlib.pyplot as plt\n",
    "\n",
    "x_data = torch.tensor([[1.0],[2.0],[3.0]])\n",
    "y_data = torch.tensor([[2.0],[4.0],[6.0]])\n",
    "\n",
    "class LinearModul(torch.nn.Module):\n",
    "    def __init__(self):\n",
    "        super(LinearModul,self).__init__()\n",
    "        self.linear = torch.nn.Linear(1,1)\n",
    "\n",
    "    def forward(self,x):\n",
    "        y_pred = self.linear(x)\n",
    "        return y_pred\n",
    "model = LinearModul()\n",
    "\n",
    "criterion = torch.nn.MSELoss(size_average=False)\n",
    "optimizer = torch.optim.SGD(model.parameters(),lr=0.01)\n",
    "\n",
    "loss_value = []\n",
    "\n",
    "for epoch in range(100):\n",
    "    y_pred = model(x_data)\n",
    "    loss = criterion(y_pred,y_data)\n",
    "    loss_value.append(loss.item())\n",
    "    #print(epoch,loss.item())\n",
    "    \n",
    "    optimizer.zero_grad()\n",
    "    loss.backward()\n",
    "    optimizer.step()\n",
    "\n",
    "#Output weight and bias\n",
    "print('w= ' ,model.linear.weight.item())\n",
    "print('b= ', model.linear.bias.item())\n",
    "\n",
    "#Test model\n",
    "x_test = torch.tensor([4.0])\n",
    "y_test = model(x_test)\n",
    "print('Predict(after training)','epoch=',epoch+1,'when x = 4, y_pred=',y_test)\n",
    "\n",
    "plt.plot(range(100),loss_value)\n",
    "plt.xlabel('epoch')\n",
    "plt.ylabel('Loss')\n",
    "plt.show"
   ]
  }
 ],
 "metadata": {
  "kernelspec": {
   "display_name": "Python 3",
   "language": "python",
   "name": "python3"
  },
  "language_info": {
   "codemirror_mode": {
    "name": "ipython",
    "version": 3
   },
   "file_extension": ".py",
   "mimetype": "text/x-python",
   "name": "python",
   "nbconvert_exporter": "python",
   "pygments_lexer": "ipython3",
   "version": "3.12.3"
  }
 },
 "nbformat": 4,
 "nbformat_minor": 2
}
